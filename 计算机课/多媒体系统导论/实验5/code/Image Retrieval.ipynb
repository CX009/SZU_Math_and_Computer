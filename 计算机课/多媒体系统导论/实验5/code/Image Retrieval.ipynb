{
 "cells": [
  {
   "cell_type": "code",
   "execution_count": 1,
   "id": "634a39dd",
   "metadata": {},
   "outputs": [],
   "source": [
    "import streamlit as st\n",
    "from scipy.spatial.distance import cdist\n",
    "\n",
    "import numpy as np\n",
    "from PIL import Image"
   ]
  },
  {
   "cell_type": "code",
   "execution_count": 2,
   "id": "d27f3106",
   "metadata": {},
   "outputs": [
    {
     "name": "stderr",
     "output_type": "stream",
     "text": [
      "2024-06-27 15:24:23.788 WARNING streamlit.runtime.caching.cache_data_api: No runtime found, using MemoryCacheStorageManager\n",
      "2024-06-27 15:24:24.442 \n",
      "  \u001b[33m\u001b[1mWarning:\u001b[0m to view this Streamlit app on a browser, run it with the following\n",
      "  command:\n",
      "\n",
      "    streamlit run C:\\Users\\Hytidel\\.conda\\envs\\d2l\\lib\\site-packages\\ipykernel_launcher.py [ARGUMENTS]\n",
      "2024-06-27 15:24:24.445 No runtime found, using MemoryCacheStorageManager\n"
     ]
    }
   ],
   "source": [
    "rootPath = \"./images/\"\n",
    "\n",
    "@st.cache_data\n",
    "def read_data():\n",
    "    fileNames = np.load(\"fileNames.npy\")\n",
    "    featureVectors = np.load(\"featureVectors.npy\") \n",
    "    return fileNames, featureVectors\n",
    "\n",
    "fileNames, featureVectors = read_data()"
   ]
  },
  {
   "cell_type": "code",
   "execution_count": 5,
   "id": "d7be5f61",
   "metadata": {},
   "outputs": [],
   "source": [
    "pictureName, picture, _ = st.columns(3)  # 图片展示在第 1 行的第 2 列\n",
    "buttonCol1, buttonCol2 = st.columns(2)  # 第 2 行的两列展示两个按钮\n",
    "buttonRandom, buttonSearch = buttonCol1.button(\"Random\"), buttonCol2.button(\"Search\")\n",
    "\n",
    "# 随机一张查询图片\n",
    "if buttonRandom:\n",
    "    fileName = fileNames[np.random.randint(len(fileNames))]\n",
    "    picture.image(Image.open(rootPath + fileName))\n",
    "    st.session_state[\"display_image\"] = fileName\n",
    "    pictureName.header(st.session_state[\"display_image\"])\n",
    "\n",
    "# 检索前 3 个相似图片\n",
    "if buttonSearch:\n",
    "    # 注意点击按钮后会刷新, 需重新显示\n",
    "    picture.image(Image.open(rootPath + st.session_state[\"display_image\"]))\n",
    "    pictureName.header(st.session_state[\"display_image\"])\n",
    "    \n",
    "    # 当前选中的图片对应的下标和特征向量\n",
    "    targetIndex = int(np.argwhere(fileNames == st.session_state[\"display_image\"]))\n",
    "    targetFeatureVector = featureVectors[targetIndex]\n",
    "    \n",
    "    # 按特征向量与 targetFeatureVector 的 Euclid 距离排序,相似度前 3 高的图片\n",
    "    top3 = cdist(targetFeatureVector[None , ...] , featureVectors).squeeze().argsort()[1:4]  # 原图片在下标 0 处\n",
    "    \n",
    "    # 展示相似度前 3 高的图片, 用两行展示结果\n",
    "    # 第 1 行展示检索结果的文件名\n",
    "    pictureNameCol1, pictureNameCol2, pictureNameCol3 = st.columns(3)  # 用 3 列展示文件名\n",
    "    pictureNameCol1.header(fileNames[top3[0]])\n",
    "    pictureNameCol2.header(fileNames[top3[1]])\n",
    "    pictureNameCol3.header(fileNames[top3[2]])\n",
    "    # 第 2 行展示检索结果的图片\n",
    "    pictureCol1, pictureCol2, pictureCol3 = st.columns(3)  # 用 3 列展示图片\n",
    "    pictureCol1.image(Image.open(rootPath + fileNames[top3[0]]))\n",
    "    pictureCol2.image(Image.open(rootPath + fileNames[top3[1]]))\n",
    "    pictureCol3.image(Image.open(rootPath + fileNames[top3[2]]))"
   ]
  },
  {
   "cell_type": "code",
   "execution_count": null,
   "id": "b5065237",
   "metadata": {},
   "outputs": [],
   "source": [
    "# 在 cmd 中运行\n",
    "!C:\\Users\\Hytidel\\.conda\\envs\\d2l\\Scripts\\streamlit.exe run \"./Image Retrieval.py\""
   ]
  }
 ],
 "metadata": {
  "kernelspec": {
   "display_name": "Python 3 (ipykernel)",
   "language": "python",
   "name": "python3"
  },
  "language_info": {
   "codemirror_mode": {
    "name": "ipython",
    "version": 3
   },
   "file_extension": ".py",
   "mimetype": "text/x-python",
   "name": "python",
   "nbconvert_exporter": "python",
   "pygments_lexer": "ipython3",
   "version": "3.9.19"
  }
 },
 "nbformat": 4,
 "nbformat_minor": 5
}
